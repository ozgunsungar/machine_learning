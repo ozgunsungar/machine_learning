{
  "nbformat": 4,
  "nbformat_minor": 0,
  "metadata": {
    "colab": {
      "name": "NDD.ipynb",
      "provenance": [],
      "collapsed_sections": []
    },
    "kernelspec": {
      "name": "python3",
      "display_name": "Python 3"
    }
  },
  "cells": [
    {
      "cell_type": "code",
      "metadata": {
        "id": "qSHyX0caSkdV",
        "colab": {
          "base_uri": "https://localhost:8080/",
          "height": 329
        },
        "outputId": "dba15fed-bfc2-43df-e012-e27da5591485"
      },
      "source": [
        "import matplotlib.pyplot as plt\n",
        "\n",
        "# Function for calculating \n",
        "# divided difference table \n",
        "def dividedDiffTable(x, y, n): \n",
        "\n",
        "    for i in range(1, n): \n",
        "        for j in range(n - i): \n",
        "            y[j][i] = ((y[j][i - 1] - y[j + 1][i - 1]) /\n",
        "                                    (x[j] - x[i + j])); \n",
        "    return y; \n",
        "\n",
        "def proterm(i, value, x): \n",
        "    pro = 1; \n",
        "    for j in range(i): \n",
        "        pro = pro * (value - x[j]); \n",
        "    return pro; \n",
        "\n",
        "# Function for applying Newton's \n",
        "# divided difference formula \n",
        "def useFormula(value, x, y, n): \n",
        "\n",
        "    total = y[0][0]; \n",
        "\n",
        "    for i in range(1, n): \n",
        "        total = total + (proterm(i, value, x) * y[0][i]); \n",
        "\n",
        "    return total; \n",
        "\n",
        "# Function for displaying divided \n",
        "# difference table \n",
        "def printDiffTable(y, n): \n",
        "\n",
        "    for i in range(n): \n",
        "        for j in range(n - i): \n",
        "            print(round(y[i][j], 4), \"\\t\", \n",
        "                            end = \" \"); \n",
        "\n",
        "        print(\"\"); \n",
        "\n",
        "# Driver Code \n",
        "\n",
        "# number of inputs given \n",
        "n = 12; \n",
        "y = [[0 for i in range(12)] \n",
        "        for j in range(12)]; \n",
        "x = [3,7,11,14,17,20,25,30,35,40,42,43]; \n",
        "\n",
        "# y[][] is used for divided difference \n",
        "# table where y[][0] is used for input\n",
        "temp = [1,47,670,1529,3629,9217,20921,38226,61049,82329,90980,95591]\n",
        "for i in range (len(x)):\n",
        "   y[i][0] = temp[i]\n",
        "\n",
        "\n",
        "\n",
        "# calculating divided difference table \n",
        "y=dividedDiffTable(x, y, n); \n",
        "\n",
        "# showing divided difference table \n",
        "# printDiffTable(y, n); \n",
        "\n",
        "# value to be interpolated \n",
        "value = 37; \n",
        "\n",
        "# printing the value \n",
        "yValue = useFormula(value, x, y, n)\n",
        "print(\"\\nCase Value at\", value,\"th day \", \"is\", yValue) \n",
        "\n",
        "plt.plot([3,7,11,14,17,20,25,30,35,40,42,43],[1,47,670,1529,3629,9217,20921,38226,61049,82329,90980,95591],color=\"blue\",label=\"All cases\")\n",
        "plt.plot(value, yValue, color='blue', marker='o',markerfacecolor='red', markersize=8,label=\"37th day\")\n",
        "plt.legend()\n",
        "plt.title(\"Daily Case Numbers\")\n",
        "plt.xlabel(\"Day\")\n",
        "plt.ylabel(\"Cases\")\n",
        "plt.show()"
      ],
      "execution_count": null,
      "outputs": [
        {
          "output_type": "stream",
          "text": [
            "\n",
            "Case Value at 37 th day  is 69451.01823281012\n"
          ],
          "name": "stdout"
        },
        {
          "output_type": "display_data",
          "data": {
            "image/png": "[encoded data removed]",
            "text/plain": [
              "<Figure size 432x288 with 1 Axes>"
            ]
          },
          "metadata": {
            "tags": [],
            "needs_background": "light"
          }
        }
      ]
    }
  ]
}