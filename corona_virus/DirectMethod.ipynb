{
  "nbformat": 4,
  "nbformat_minor": 0,
  "metadata": {
    "colab": {
      "name": "DirectMethod",
      "provenance": [],
      "collapsed_sections": []
    },
    "kernelspec": {
      "name": "python3",
      "display_name": "Python 3"
    }
  },
  "cells": [
    {
      "cell_type": "code",
      "metadata": {
        "id": "68B_5aahTLFq",
        "colab": {
          "base_uri": "https://localhost:8080/",
          "height": 312
        },
        "outputId": "4496c989-9a3b-4034-efbd-6080199627e2"
      },
      "source": [
        "import matplotlib.pyplot as plt\n",
        "#LinearInterpolation\n",
        "\n",
        "x = [35,40]\n",
        "y = [61049\t,82329]\n",
        "#the n day we want to find out(n at x axis --- ny at y axis)\n",
        "n = 37\n",
        "\n",
        "x1 = x[0]\n",
        "x2 = x[1]\n",
        "y1 = y[0]\n",
        "y2 = y[1]\n",
        "\n",
        "\n",
        "def slope(x1,y1,x2,y2):\n",
        "  sum = (y2-y1) / (x2-x1)\n",
        "  return sum\n",
        "\n",
        "def findLinearInterpolation(m1,n,x1,y1):\n",
        "  ny=m1*(n-x1)+y1 \n",
        "  return ny\n",
        "\n",
        "ny = findLinearInterpolation(slope(x1,y1,x2,y2),n,x1,y1)\n",
        "\n",
        "print(\"Case value of f(37) is : \",ny)\n",
        "\n",
        "plt.plot([35,40],[61049\t,82329],'ro',color=\"blue\",label=\"35th and 40th days\")\n",
        "plt.plot(n, ny,'ro',markerfacecolor='red', markersize=8,label=\"37th day\")\n",
        "plt.legend()\n",
        "plt.title(\"Daily Case Numbers\")\n",
        "plt.xlabel(\"Day\")\n",
        "plt.ylabel(\"Cases\")\n",
        "plt.show()\n"
      ],
      "execution_count": 1,
      "outputs": [
        {
          "output_type": "stream",
          "name": "stdout",
          "text": [
            "Case value of f(37) is :  69561.0\n"
          ]
        },
        {
          "output_type": "display_data",
          "data": {
            "image/png": "[encoded data removed]",
            "text/plain": [
              "<Figure size 432x288 with 1 Axes>"
            ]
          },
          "metadata": {
            "needs_background": "light"
          }
        }
      ]
    }
  ]
}